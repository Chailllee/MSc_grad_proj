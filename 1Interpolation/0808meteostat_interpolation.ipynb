{
 "cells": [
  {
   "cell_type": "code",
   "execution_count": 1,
   "metadata": {},
   "outputs": [],
   "source": [
    "import pandas as pd\n",
    "import numpy as np"
   ]
  },
  {
   "cell_type": "code",
   "execution_count": 9,
   "metadata": {},
   "outputs": [
    {
     "name": "stdout",
     "output_type": "stream",
     "text": [
      "         date  tavg  tmin  tmax  prcp  snow   wdir  wspd  wpgt    pres  tsun\n",
      "0  2022-01-01  11.8  10.5  13.1   NaN   NaN  202.0  17.7  35.2  1017.5   NaN\n",
      "1  2022-01-02  10.5   8.5  11.5   NaN   NaN  229.0  22.2  40.8  1010.3   NaN\n",
      "2  2022-01-03   8.3   7.1   9.7   NaN   NaN  232.0  19.0  38.9  1007.8   NaN\n",
      "3  2022-01-04   3.8   0.2   7.0   NaN   NaN  295.0  13.5  31.5  1001.7   NaN\n",
      "4  2022-01-05   1.6  -0.4   4.6   NaN   NaN  296.0  17.5  37.0  1013.4   NaN\n",
      "Index(['date', 'tavg', 'tmin', 'tmax', 'prcp', 'snow', 'wdir', 'wspd', 'wpgt',\n",
      "       'pres', 'tsun'],\n",
      "      dtype='object')\n"
     ]
    }
   ],
   "source": [
    "# Path to the weather data file\n",
    "weather_data_path = 'D:\\\\File_auto\\\\0_UCL_CASA\\\\OneDrive - University College London\\\\Xiaoyi_dissertation\\\\Analysis\\\\Data\\\\meteostat\\\\meteostat2022.csv'\n",
    "\n",
    "# Read the CSV file, handling the BOM\n",
    "weather_df = pd.read_csv(weather_data_path, encoding='utf-8-sig')\n",
    "\n",
    "# Check the first few rows and columns to ensure it reads correctly\n",
    "print(weather_df.head())\n",
    "print(weather_df.columns)\n"
   ]
  },
  {
   "cell_type": "code",
   "execution_count": 11,
   "metadata": {},
   "outputs": [
    {
     "name": "stdout",
     "output_type": "stream",
     "text": [
      "Interpolated weather data saved to D:\\File_auto\\0_UCL_CASA\\OneDrive - University College London\\Xiaoyi_dissertation\\Analysis\\Data\\meteostat\\meteostat2022_interpolated.csv\n"
     ]
    }
   ],
   "source": [
    "# Function to perform polynomial interpolation\n",
    "def polynomial_interpolation(df, date_col, value_cols, max_degree=3):\n",
    "    df[date_col] = pd.to_datetime(df[date_col], format='%Y-%m-%d')  # Adjust the date format\n",
    "    min_date = df[date_col].min()\n",
    "    max_date = df[date_col].max()\n",
    "    \n",
    "    # Create a complete date range\n",
    "    date_range = pd.date_range(start=min_date, end=max_date, freq='D')\n",
    "    \n",
    "    # Create a new DataFrame with the complete date range\n",
    "    full_df = pd.DataFrame(date_range, columns=[date_col])\n",
    "    \n",
    "    for col in value_cols:\n",
    "        # Fit a polynomial to the non-null data\n",
    "        non_null_data = df.dropna(subset=[col])\n",
    "        x = (non_null_data[date_col] - min_date).dt.days.values\n",
    "        y = non_null_data[col].values\n",
    "        \n",
    "        # Adjust polynomial degree based on the number of data points\n",
    "        degree = min(max_degree, len(x) - 1)\n",
    "        if degree < 1:\n",
    "            full_df[col] = np.nan\n",
    "            continue\n",
    "        \n",
    "        try:\n",
    "            polynomial = np.poly1d(np.polyfit(x, y, degree))\n",
    "        except np.linalg.LinAlgError:\n",
    "            print(f\"Failed to fit polynomial for {col} due to insufficient data.\")\n",
    "            full_df[col] = np.nan\n",
    "            continue\n",
    "        \n",
    "        # Apply the polynomial to the full date range\n",
    "        full_df[col] = polynomial((full_df[date_col] - min_date).dt.days.values)\n",
    "        \n",
    "        # Ensure interpolated values do not fall below the minimum original values\n",
    "        min_value = non_null_data[col].min()\n",
    "        full_df[col] = np.where(full_df[col] < min_value, min_value, full_df[col])\n",
    "        \n",
    "        # Round values to 2 decimal places\n",
    "        full_df[col] = full_df[col].round(2)\n",
    "    \n",
    "    # Merge the interpolated values back into the original dataframe\n",
    "    df = pd.merge(df, full_df, on=date_col, how='outer', suffixes=('', '_interpolated'))\n",
    "    \n",
    "    for col in value_cols:\n",
    "        df[col] = df[col].combine_first(df[f'{col}_interpolated'])\n",
    "        df.drop(columns=[f'{col}_interpolated'], inplace=True)\n",
    "    \n",
    "    return df\n",
    "\n",
    "# Specify the columns to interpolate\n",
    "value_columns = ['tavg', 'tmin', 'tmax', 'wdir', 'wspd', 'wpgt', 'pres']\n",
    "\n",
    "# Perform polynomial interpolation on the weather data\n",
    "interpolated_weather_df = polynomial_interpolation(weather_df, 'date', value_columns, max_degree=3)\n",
    "\n",
    "# Save the interpolated data back to a new CSV file\n",
    "interpolated_weather_file_path = weather_data_path.replace('.csv', '_interpolated.csv')\n",
    "interpolated_weather_df.to_csv(interpolated_weather_file_path, index=False)\n",
    "print(f\"Interpolated weather data saved to {interpolated_weather_file_path}\")\n"
   ]
  }
 ],
 "metadata": {
  "kernelspec": {
   "display_name": "Python 3",
   "language": "python",
   "name": "python3"
  },
  "language_info": {
   "codemirror_mode": {
    "name": "ipython",
    "version": 3
   },
   "file_extension": ".py",
   "mimetype": "text/x-python",
   "name": "python",
   "nbconvert_exporter": "python",
   "pygments_lexer": "ipython3",
   "version": "3.12.0"
  }
 },
 "nbformat": 4,
 "nbformat_minor": 2
}
