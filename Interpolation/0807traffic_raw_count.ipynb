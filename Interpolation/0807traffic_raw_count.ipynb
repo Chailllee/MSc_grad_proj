{
 "cells": [
  {
   "cell_type": "markdown",
   "metadata": {},
   "source": [
    "# import"
   ]
  },
  {
   "cell_type": "code",
   "execution_count": 1,
   "metadata": {},
   "outputs": [],
   "source": [
    "import os\n",
    "import pandas as pd\n",
    "import numpy as np\n",
    "from scipy.interpolate import UnivariateSpline\n",
    "from scipy.interpolate import interp1d"
   ]
  },
  {
   "cell_type": "markdown",
   "metadata": {},
   "source": [
    "# Step 1: Read and filter the original files"
   ]
  },
  {
   "cell_type": "code",
   "execution_count": 14,
   "metadata": {},
   "outputs": [
    {
     "name": "stdout",
     "output_type": "stream",
     "text": [
      "Filtered data saved to N:/MSc_grad_proj/Data/dfl_traffic_count\\dft_rawcount_local_authority_id_103_filtered.csv\n",
      "Filtered data saved to N:/MSc_grad_proj/Data/dfl_traffic_count\\dft_rawcount_local_authority_id_107_filtered.csv\n"
     ]
    },
    {
     "name": "stderr",
     "output_type": "stream",
     "text": [
      "C:\\Users\\ucfnxch\\AppData\\Local\\Temp\\ipykernel_1708\\2204947645.py:13: DtypeWarning: Columns (11,12) have mixed types. Specify dtype option on import or set low_memory=False.\n",
      "  df = pd.read_csv(file_path, encoding='ISO-8859-1')  # 调整编码如果需要\n"
     ]
    },
    {
     "name": "stdout",
     "output_type": "stream",
     "text": [
      "Filtered data saved to N:/MSc_grad_proj/Data/dfl_traffic_count\\dft_rawcount_local_authority_id_109_filtered.csv\n",
      "Filtered data saved to N:/MSc_grad_proj/Data/dfl_traffic_count\\dft_rawcount_local_authority_id_110_filtered.csv\n",
      "Filtered data saved to N:/MSc_grad_proj/Data/dfl_traffic_count\\dft_rawcount_local_authority_id_145_filtered.csv\n",
      "Filtered data saved to N:/MSc_grad_proj/Data/dfl_traffic_count\\dft_rawcount_local_authority_id_174_filtered.csv\n",
      "Filtered data saved to N:/MSc_grad_proj/Data/dfl_traffic_count\\dft_rawcount_local_authority_id_96_filtered.csv\n"
     ]
    }
   ],
   "source": [
    "# File path to the folder containing the original CSV files\n",
    "dfl_file_path = 'N:/MSc_grad_proj/Data/dfl_traffic_count'\n",
    "years_to_filter = [2018, 2019, 2021, 2022, 2023, 2024]\n",
    "\n",
    "# List all files in the directory\n",
    "file_paths = [os.path.join(dfl_file_path, file) for file in os.listdir(dfl_file_path) if file.endswith('.csv')]\n",
    "\n",
    "# Initialize list to store filtered file paths\n",
    "file_paths_filtered = []\n",
    "\n",
    "for file_path in file_paths:\n",
    "    # 读取CSV文件\n",
    "    df = pd.read_csv(file_path, encoding='ISO-8859-1')  # 调整编码如果需要\n",
    "    \n",
    "    # 将'count_date'列转换为datetime类型\n",
    "    df['count_date'] = pd.to_datetime(df['count_date'], errors='coerce')\n",
    "    \n",
    "    # 删除'all_motor_vehicles'等于0的行\n",
    "    df = df[df['all_motor_vehicles'] != 0]\n",
    "    \n",
    "    # 过滤指定年份的行\n",
    "    filtered_df = df[df['count_date'].dt.year.isin(years_to_filter)]\n",
    "    \n",
    "    # 保存过滤后的数据到新文件\n",
    "    new_file_path = file_path.replace('.csv', '_filtered.csv')\n",
    "    filtered_df.to_csv(new_file_path, index=False)\n",
    "    print(f\"Filtered data saved to {new_file_path}\")\n",
    "    \n",
    "    # Append new file path to the filtered file paths list\n",
    "    file_paths_filtered.append(new_file_path)\n"
   ]
  },
  {
   "cell_type": "code",
   "execution_count": 3,
   "metadata": {},
   "outputs": [
    {
     "data": {
      "text/plain": [
       "['N:\\\\MSc_grad_proj\\\\Data\\\\dfl_traffic_count\\\\dft_rawcount_local_authority_id_103.csv',\n",
       " 'N:\\\\MSc_grad_proj\\\\Data\\\\dfl_traffic_count\\\\dft_rawcount_local_authority_id_107.csv',\n",
       " 'N:\\\\MSc_grad_proj\\\\Data\\\\dfl_traffic_count\\\\dft_rawcount_local_authority_id_109.csv',\n",
       " 'N:\\\\MSc_grad_proj\\\\Data\\\\dfl_traffic_count\\\\dft_rawcount_local_authority_id_110.csv',\n",
       " 'N:\\\\MSc_grad_proj\\\\Data\\\\dfl_traffic_count\\\\dft_rawcount_local_authority_id_145.csv',\n",
       " 'N:\\\\MSc_grad_proj\\\\Data\\\\dfl_traffic_count\\\\dft_rawcount_local_authority_id_174.csv',\n",
       " 'N:\\\\MSc_grad_proj\\\\Data\\\\dfl_traffic_count\\\\dft_rawcount_local_authority_id_96.csv']"
      ]
     },
     "execution_count": 3,
     "metadata": {},
     "output_type": "execute_result"
    }
   ],
   "source": [
    "file_paths"
   ]
  },
  {
   "cell_type": "code",
   "execution_count": 15,
   "metadata": {},
   "outputs": [
    {
     "data": {
      "text/plain": [
       "['N:/MSc_grad_proj/Data/dfl_traffic_count\\\\dft_rawcount_local_authority_id_103_filtered.csv',\n",
       " 'N:/MSc_grad_proj/Data/dfl_traffic_count\\\\dft_rawcount_local_authority_id_107_filtered.csv',\n",
       " 'N:/MSc_grad_proj/Data/dfl_traffic_count\\\\dft_rawcount_local_authority_id_109_filtered.csv',\n",
       " 'N:/MSc_grad_proj/Data/dfl_traffic_count\\\\dft_rawcount_local_authority_id_110_filtered.csv',\n",
       " 'N:/MSc_grad_proj/Data/dfl_traffic_count\\\\dft_rawcount_local_authority_id_145_filtered.csv',\n",
       " 'N:/MSc_grad_proj/Data/dfl_traffic_count\\\\dft_rawcount_local_authority_id_174_filtered.csv',\n",
       " 'N:/MSc_grad_proj/Data/dfl_traffic_count\\\\dft_rawcount_local_authority_id_96_filtered.csv']"
      ]
     },
     "execution_count": 15,
     "metadata": {},
     "output_type": "execute_result"
    }
   ],
   "source": [
    "file_paths_filtered"
   ]
  },
  {
   "cell_type": "markdown",
   "metadata": {},
   "source": [
    "# Step 2: Processing filtered files"
   ]
  },
  {
   "cell_type": "markdown",
   "metadata": {},
   "source": [
    "## Linear interpolation"
   ]
  },
  {
   "cell_type": "code",
   "execution_count": 19,
   "metadata": {},
   "outputs": [
    {
     "name": "stderr",
     "output_type": "stream",
     "text": [
      "C:\\Users\\ucfnxch\\AppData\\Local\\Temp\\ipykernel_1708\\2802831072.py:3: SettingWithCopyWarning: \n",
      "A value is trying to be set on a copy of a slice from a DataFrame.\n",
      "Try using .loc[row_indexer,col_indexer] = value instead\n",
      "\n",
      "See the caveats in the documentation: https://pandas.pydata.org/pandas-docs/stable/user_guide/indexing.html#returning-a-view-versus-a-copy\n",
      "  df[date_col] = pd.to_datetime(df[date_col])\n",
      "C:\\Users\\ucfnxch\\AppData\\Local\\Temp\\ipykernel_1708\\2802831072.py:16: FutureWarning: The default value of numeric_only in DataFrameGroupBy.mean is deprecated. In a future version, numeric_only will default to False. Either specify numeric_only or select only columns which should be valid for the function.\n",
      "  df = df.resample('D').mean()  # Resample to daily frequency and calculate mean for existing data\n"
     ]
    },
    {
     "ename": "KeyError",
     "evalue": "\"None of ['count_date'] are in the columns\"",
     "output_type": "error",
     "traceback": [
      "\u001b[1;31m---------------------------------------------------------------------------\u001b[0m",
      "\u001b[1;31mKeyError\u001b[0m                                  Traceback (most recent call last)",
      "\u001b[1;32mn:\\MSc_grad_proj\\Interpolation\\0807traffic_raw_count.ipynb Cell 9\u001b[0m line \u001b[0;36m4\n\u001b[0;32m     <a href='vscode-notebook-cell:/n%3A/MSc_grad_proj/Interpolation/0807traffic_raw_count.ipynb#X12sZmlsZQ%3D%3D?line=40'>41</a>\u001b[0m \u001b[39mfor\u001b[39;00m road_type \u001b[39min\u001b[39;00m df[\u001b[39m'\u001b[39m\u001b[39mroad_type\u001b[39m\u001b[39m'\u001b[39m]\u001b[39m.\u001b[39munique():\n\u001b[0;32m     <a href='vscode-notebook-cell:/n%3A/MSc_grad_proj/Interpolation/0807traffic_raw_count.ipynb#X12sZmlsZQ%3D%3D?line=41'>42</a>\u001b[0m     road_df \u001b[39m=\u001b[39m df[df[\u001b[39m'\u001b[39m\u001b[39mroad_type\u001b[39m\u001b[39m'\u001b[39m] \u001b[39m==\u001b[39m road_type]\n\u001b[1;32m---> <a href='vscode-notebook-cell:/n%3A/MSc_grad_proj/Interpolation/0807traffic_raw_count.ipynb#X12sZmlsZQ%3D%3D?line=42'>43</a>\u001b[0m     interpolated_df \u001b[39m=\u001b[39m linear_interpolation(road_df, \u001b[39m'\u001b[39;49m\u001b[39mcount_date\u001b[39;49m\u001b[39m'\u001b[39;49m, value_columns)\n\u001b[0;32m     <a href='vscode-notebook-cell:/n%3A/MSc_grad_proj/Interpolation/0807traffic_raw_count.ipynb#X12sZmlsZQ%3D%3D?line=44'>45</a>\u001b[0m     \u001b[39m# Calculate 'all_motor_vehicles' as the sum of specific columns\u001b[39;00m\n\u001b[0;32m     <a href='vscode-notebook-cell:/n%3A/MSc_grad_proj/Interpolation/0807traffic_raw_count.ipynb#X12sZmlsZQ%3D%3D?line=45'>46</a>\u001b[0m     interpolated_df[\u001b[39m'\u001b[39m\u001b[39mall_motor_vehicles\u001b[39m\u001b[39m'\u001b[39m] \u001b[39m=\u001b[39m interpolated_df[value_columns]\u001b[39m.\u001b[39msum(axis\u001b[39m=\u001b[39m\u001b[39m1\u001b[39m)\n",
      "\u001b[1;32mn:\\MSc_grad_proj\\Interpolation\\0807traffic_raw_count.ipynb Cell 9\u001b[0m line \u001b[0;36m1\n\u001b[0;32m     <a href='vscode-notebook-cell:/n%3A/MSc_grad_proj/Interpolation/0807traffic_raw_count.ipynb#X12sZmlsZQ%3D%3D?line=10'>11</a>\u001b[0m full_df \u001b[39m=\u001b[39m pd\u001b[39m.\u001b[39mDataFrame(date_range, columns\u001b[39m=\u001b[39m[date_col])\n\u001b[0;32m     <a href='vscode-notebook-cell:/n%3A/MSc_grad_proj/Interpolation/0807traffic_raw_count.ipynb#X12sZmlsZQ%3D%3D?line=12'>13</a>\u001b[0m \u001b[39mfor\u001b[39;00m col \u001b[39min\u001b[39;00m value_cols:\n\u001b[0;32m     <a href='vscode-notebook-cell:/n%3A/MSc_grad_proj/Interpolation/0807traffic_raw_count.ipynb#X12sZmlsZQ%3D%3D?line=13'>14</a>\u001b[0m     \u001b[39m# Perform linear interpolation\u001b[39;00m\n\u001b[1;32m---> <a href='vscode-notebook-cell:/n%3A/MSc_grad_proj/Interpolation/0807traffic_raw_count.ipynb#X12sZmlsZQ%3D%3D?line=14'>15</a>\u001b[0m     df\u001b[39m.\u001b[39;49mset_index(date_col, inplace\u001b[39m=\u001b[39;49m\u001b[39mTrue\u001b[39;49;00m)\n\u001b[0;32m     <a href='vscode-notebook-cell:/n%3A/MSc_grad_proj/Interpolation/0807traffic_raw_count.ipynb#X12sZmlsZQ%3D%3D?line=15'>16</a>\u001b[0m     df \u001b[39m=\u001b[39m df\u001b[39m.\u001b[39mresample(\u001b[39m'\u001b[39m\u001b[39mD\u001b[39m\u001b[39m'\u001b[39m)\u001b[39m.\u001b[39mmean()  \u001b[39m# Resample to daily frequency and calculate mean for existing data\u001b[39;00m\n\u001b[0;32m     <a href='vscode-notebook-cell:/n%3A/MSc_grad_proj/Interpolation/0807traffic_raw_count.ipynb#X12sZmlsZQ%3D%3D?line=16'>17</a>\u001b[0m     df[col] \u001b[39m=\u001b[39m df[col]\u001b[39m.\u001b[39minterpolate(method\u001b[39m=\u001b[39m\u001b[39m'\u001b[39m\u001b[39mlinear\u001b[39m\u001b[39m'\u001b[39m)\n",
      "File \u001b[1;32mc:\\Program Files\\Anaconda3\\lib\\site-packages\\pandas\\util\\_decorators.py:331\u001b[0m, in \u001b[0;36mdeprecate_nonkeyword_arguments.<locals>.decorate.<locals>.wrapper\u001b[1;34m(*args, **kwargs)\u001b[0m\n\u001b[0;32m    325\u001b[0m \u001b[39mif\u001b[39;00m \u001b[39mlen\u001b[39m(args) \u001b[39m>\u001b[39m num_allow_args:\n\u001b[0;32m    326\u001b[0m     warnings\u001b[39m.\u001b[39mwarn(\n\u001b[0;32m    327\u001b[0m         msg\u001b[39m.\u001b[39mformat(arguments\u001b[39m=\u001b[39m_format_argument_list(allow_args)),\n\u001b[0;32m    328\u001b[0m         \u001b[39mFutureWarning\u001b[39;00m,\n\u001b[0;32m    329\u001b[0m         stacklevel\u001b[39m=\u001b[39mfind_stack_level(),\n\u001b[0;32m    330\u001b[0m     )\n\u001b[1;32m--> 331\u001b[0m \u001b[39mreturn\u001b[39;00m func(\u001b[39m*\u001b[39margs, \u001b[39m*\u001b[39m\u001b[39m*\u001b[39mkwargs)\n",
      "File \u001b[1;32mc:\\Program Files\\Anaconda3\\lib\\site-packages\\pandas\\core\\frame.py:6012\u001b[0m, in \u001b[0;36mDataFrame.set_index\u001b[1;34m(self, keys, drop, append, inplace, verify_integrity)\u001b[0m\n\u001b[0;32m   6009\u001b[0m                 missing\u001b[39m.\u001b[39mappend(col)\n\u001b[0;32m   6011\u001b[0m \u001b[39mif\u001b[39;00m missing:\n\u001b[1;32m-> 6012\u001b[0m     \u001b[39mraise\u001b[39;00m \u001b[39mKeyError\u001b[39;00m(\u001b[39mf\u001b[39m\u001b[39m\"\u001b[39m\u001b[39mNone of \u001b[39m\u001b[39m{\u001b[39;00mmissing\u001b[39m}\u001b[39;00m\u001b[39m are in the columns\u001b[39m\u001b[39m\"\u001b[39m)\n\u001b[0;32m   6014\u001b[0m \u001b[39mif\u001b[39;00m inplace:\n\u001b[0;32m   6015\u001b[0m     frame \u001b[39m=\u001b[39m \u001b[39mself\u001b[39m\n",
      "\u001b[1;31mKeyError\u001b[0m: \"None of ['count_date'] are in the columns\""
     ]
    }
   ],
   "source": [
    "# Function to perform linear interpolation\n",
    "def linear_interpolation(df, date_col, value_cols):\n",
    "    df[date_col] = pd.to_datetime(df[date_col])\n",
    "    min_date = df[date_col].min()\n",
    "    max_date = df[date_col].max()\n",
    "    \n",
    "    # Create a complete date range\n",
    "    date_range = pd.date_range(start=min_date, end=max_date, freq='D')\n",
    "    \n",
    "    # Create a new DataFrame with the complete date range\n",
    "    full_df = pd.DataFrame(date_range, columns=[date_col])\n",
    "    \n",
    "    for col in value_cols:\n",
    "        # Perform linear interpolation\n",
    "        df.set_index(date_col, inplace=True)\n",
    "        df = df.resample('D').mean()  # Resample to daily frequency and calculate mean for existing data\n",
    "      