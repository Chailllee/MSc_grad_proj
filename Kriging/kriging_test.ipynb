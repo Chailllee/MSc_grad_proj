{
 "cells": [
  {
   "cell_type": "markdown",
   "metadata": {},
   "source": [
    "# Data prepare"
   ]
  },
  {
   "cell_type": "code",
   "execution_count": 1,
   "metadata": {},
   "outputs": [],
   "source": [
    "import numpy as np\n",
    "import pandas as pd\n",
    "from scipy.spatial.distance import cdist\n",
    "from scipy.linalg import solve\n",
    "from math import radians, cos, sin, sqrt, atan2"
   ]
  },
  {
   "cell_type": "code",
   "execution_count": 2,
   "metadata": {},
   "outputs": [],
   "source": [
    "# Load data\n",
    "air_data = pd.read_excel('test_air_sensor.xlsx')\n",
    "wind_data = pd.read_csv('wind.csv')\n",
    "\n",
    "\n",
    "# Split the \"Latitude & Longitude\" column into separate columns\n",
    "air_data[['Latitude', 'Longitude']] = air_data['Latitude & Longitude'].str.split(', ', expand=True)\n",
    "air_data['Latitude'] = air_data['Latitude'].astype(float)\n",
    "air_data['Longitude'] = air_data['Longitude'].astype(float)"
   ]
  },
  {
   "cell_type": "markdown",
   "metadata": {},
   "source": [
    "# definition"
   ]
  },
  {
   "cell_type": "code",
   "execution_count": 3,
   "metadata": {},
   "outputs": [],
   "source": [
    "# Haversine formula to calculate distance between two points in meters\n",
    "def haversine(lat1, lon1, lat2, lon2):\n",
    "    R = 6371000  # Radius of the Earth in meters\n",
    "    phi1 = radians(lat1)\n",
    "    phi2 = radians(lat2)\n",
    "    delta_phi = radians(lat2 - lat1)\n",
    "    delta_lambda = radians(lon2 - lon1)\n",
    "    a = sin(delta_phi / 2.0) ** 2 + cos(phi1) * cos(phi2) * sin(delta_lambda / 2.0) ** 2\n",
    "    c = 2 * atan2(sqrt(a), sqrt(1 - a))\n",
    "    meters = R * c  # Output distance in meters\n",
    "    return meters\n",
    "\n",
    "def calculate_semivariogram(data):\n",
    "    num_points = len(data)  # Number of data points\n",
    "    semivariances = []  # List to store semivariance values\n",
    "\n",
    "    # Nested loop to compare each pair of points\n",
    "    for i in range(num_points):\n",
    "        for j in range(i + 1, num_points):\n",
    "            # Calculate the distance between point i and point j\n",
    "            dist = haversine(data['Latitude'].iloc[i], data['Longitude'].iloc[i],\n",
    "                             data['Latitude'].iloc[j], data['Longitude'].iloc[j])\n",
    "            # Calculate the squared difference of the NO2 values\n",
    "            squared_diff = (data['NO2(ug m-3)'].iloc[i] - data['NO2(ug m-3)'].iloc[j]) ** 2\n",
    "            # Append the distance and squared difference as a tuple to semivariances\n",
    "            semivariances.append((dist, squared_diff))\n",
    "\n",
    "    # Calculate the average semivariance for each unique distance\n",
    "    unique_distances = sorted(set([item[0] for item in semivariances]))\n",
    "    avg_semivariances = []\n",
    "    for dist in unique_distances:\n",
    "        squared_diffs = [item[1] for item in semivariances if item[0] == dist]\n",
    "        avg_semivariances.append((dist, np.mean(squared_diffs) / 2.0))\n",
    "\n",
    "    # Return the list of (distance, semivariance) tuples as a numpy array\n",
    "    return np.array(avg_semivariances)\n",
    "\n",
    "# # Calculate Kriging weights\n",
    "# def calculate_kriging_weights(semivariogram, distances, n):\n",
    "#     A = np.zeros((n + 1, n + 1))\n",
    "#     A[:n, :n] = semivariogram[distances.astype(int)]\n",
    "#     A[-1, :-1] = 1\n",
    "#     A[:-1, -1] = 1\n",
    "\n",
    "#     b = np.zeros(n + 1)\n",
    "#     b[:-1] = semivariogram[distances.astype(int)]\n",
    "\n",
    "#     weights = solve(A, b)\n",
    "#     return weights[:-1]\n",
    "\n",
    "\n",
    "# def calculate_kriging_weights(semivariogram, distances, n):\n",
    "#     A = np.zeros((n + 1, n + 1))\n",
    "#     for i in range(n):\n",
    "#         for j in range(n):\n",
    "#             A[i, j] = semivariogram[int(distances[i, j])]\n",
    "#     A[-1, :-1] = 1\n",
    "#     A[:-1, -1] = 1\n",
    "\n",
    "#     b = np.zeros(n + 1)\n",
    "#     for i in range(n):\n",
    "#         b[i] = semivariogram[int(distances[i, -1])]\n",
    "\n",
    "#     weights = solve(A, b)\n",
    "#     return weights[:-1]\n",
    "\n",
    "def calculate_kriging_weights(semivariogram, distances, n, nugget=1e-10):\n",
    "    A = np.zeros((n + 1, n + 1))\n",
    "    \n",
    "    for i in range(n):\n",
    "        for j in range(n):\n",
    "            if i == j:\n",
    "                A[i, j] = semivariogram[0][1] + nugget  # Semivariance at distance 0 with nugget effect\n",
    "            else:\n",
    "                dist = int(distances[0, j])\n",
    "                A[i, j] = semivariogram[dist][1] if dist < len(semivariogram) else semivariogram[-1][1]  # Last semivariogram value for large distances\n",
    "\n",
    "    A[-1, :-1] = 1\n",
    "    A[:-1, -1] = 1\n",
    "\n",
    "    b = np.zeros(n + 1)\n",
    "    for i in range(n):\n",
    "        dist = int(distances[0, i])\n",
    "        b[i] = semivariogram[dist][1] if dist < len(semivariogram) else semivariogram[-1][1]\n",
    "\n",
    "    weights = solve(A, b)\n",
    "    return weights[:-1]\n",
    "\n",
    "# Adjust weights for wind effects\n",
    "def adjust_weights(weights, wind_speed, wind_dir, sensor_directions, avg_wind_speed):\n",
    "    adjustments = 1 + (wind_speed * np.cos(np.radians(wind_dir - sensor_directions))) / avg_wind_speed\n",
    "    adjusted_weights = weights * adjustments\n",
    "    return adjusted_weights\n",
    "\n",
    "# Normalize adjusted weights\n",
    "def normalize_weights(weights):\n",
    "    return weights / np.sum(weights)\n",
    "\n",
    "# Perform interpolation\n",
    "def interpolate(data, weights):\n",
    "    return np.sum(weights * data['NO2(ug m-3)'].values)"
   ]
  },
  {
   "cell_type": "markdown",
   "metadata": {},
   "source": [
    "# Example"
   ]
  },
  {
   "cell_type": "code",
   "execution_count": 4,
   "metadata": {},
   "outputs": [
    {
     "name": "stdout",
     "output_type": "stream",
     "text": [
      "Estimated NO2 at the interpolation point: 34.39 ug/m3\n"
     ]
    }
   ],
   "source": [
    "# Filter data for the specific date\n",
    "date_filter = '2019-04-01'\n",
    "filtered_air_data = air_data[air_data['Monitor Date'] == date_filter]\n",
    "filtered_wind_data = wind_data[wind_data['date'] == date_filter]\n",
    "\n",
    "# 移除'NO2(ug m-3)'列中的NaN值\n",
    "filtered_air_data = filtered_air_data.dropna(subset=['NO2(ug m-3)'])\n",
    "# 排除'NO2(ug m-3)'列中等于0的行\n",
    "filtered_air_data = filtered_air_data[filtered_air_data['NO2(ug m-3)'] != 0]\n",
    "# 如果'NO2(ug m-3)'列包含字符串类型的空值，也排除这些行（可选）\n",
    "# filtered_air_data = filtered_air_data[filtered_air_data['NO2(ug m-3)'] != '']\n",
    "\n",
    "# Extract wind direction and speed for the specific date\n",
    "wind_speed = filtered_wind_data['wspd'].values[0]\n",
    "wind_dir = filtered_wind_data['wdir'].values[0]\n",
    "\n",
    "# Assume max_distance is 10 (you can change as needed)\n",
    "\n",
    "semivariogram = calculate_semivariogram(filtered_air_data)\n",
    "\n",
    "# Calculate the center point of all sensor locations\n",
    "interpolation_point = np.array([[filtered_air_data['Latitude'].mean(), filtered_air_data['Longitude'].mean()]])\n",
    "# Distances from interpolation point to sensors\n",
    "# distances = cdist(interpolation_point, filtered_air_data[['Latitude', 'Longitude']], metric='euclidean')\n",
    "# Calculate distances from interpolation point to sensors using Haversine formula\n",
    "sensor_locations = filtered_air_data[['Latitude', 'Longitude']].values\n",
    "distances = np.array([[haversine(interpolation_point[0, 0], interpolation_point[0, 1], lat, lon) for lat, lon in sensor_locations]])\n",
    "\n",
    "# Calculate Kriging weights\n",
    "kriging_weights = calculate_kriging_weights(semivariogram, distances, len(filtered_air_data))\n",
    "\n",
    "# Adjust weights for wind effects\n",
    "sensor_directions = np.arctan2(filtered_air_data['Longitude'] - interpolation_point[0, 1], filtered_air_data['Latitude'] - interpolation_point[0, 0]) * 180 / np.pi\n",
    "\n",
    "mean_wind_speed=wind_data['wspd'].mean()\n",
    "adjusted_weights = adjust_weights(kriging_weights, wind_speed, wind_dir, sensor_directions, mean_wind_speed)\n",
    "\n",
    "# Normalize the adjusted weights\n",
    "normalized_weights = normalize_weights(adjusted_weights)\n",
    "\n",
    "# Interpolate to get the estimated air quality\n",
    "estimated_value = interpolate(filtered_air_data, normalized_weights)\n",
    "print(f'Estimated NO2 at the interpolation point: {estimated_value:.2f} ug/m3')\n"
   ]
  },
  {
   "cell_type": "markdown",
   "metadata": {},
   "source": [
    "# debug"
   ]
  }
 ],
 "metadata": {
  "kernelspec": {
   "display_name": "Python 3",
   "language": "python",
   "name": "python3"
  },
  "language_info": {
   "codemirror_mode": {
    "name": "ipython",
    "version": 3
   },
   "file_extension": ".py",
   "mimetype": "text/x-python",
   "name": "python",
   "nbconvert_exporter": "python",
   "pygments_lexer": "ipython3",
   "version": "3.12.0"
  }
 },
 "nbformat": 4,
 "nbformat_minor": 2
}
