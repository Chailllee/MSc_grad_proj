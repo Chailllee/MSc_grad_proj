{
 "cells": [
  {
   "cell_type": "code",
   "execution_count": 1,
   "metadata": {},
   "outputs": [
    {
     "name": "stderr",
     "output_type": "stream",
     "text": [
      "<>:1: SyntaxWarning: invalid escape sequence '\\d'\n",
      "<>:2: SyntaxWarning: invalid escape sequence '\\d'\n",
      "<>:3: SyntaxWarning: invalid escape sequence '\\d'\n",
      "<>:4: SyntaxWarning: invalid escape sequence '\\d'\n",
      "<>:5: SyntaxWarning: invalid escape sequence '\\d'\n",
      "<>:6: SyntaxWarning: invalid escape sequence '\\d'\n",
      "<>:1: SyntaxWarning: invalid escape sequence '\\d'\n",
      "<>:2: SyntaxWarning: invalid escape sequence '\\d'\n",
      "<>:3: SyntaxWarning: invalid escape sequence '\\d'\n",
      "<>:4: SyntaxWarning: invalid escape sequence '\\d'\n",
      "<>:5: SyntaxWarning: invalid escape sequence '\\d'\n",
      "<>:6: SyntaxWarning: invalid escape sequence '\\d'\n",
      "C:\\Users\\Chailee\\AppData\\Local\\Temp\\ipykernel_27736\\2460736172.py:1: SyntaxWarning: invalid escape sequence '\\d'\n",
      "  dft93 = 'Data\\\\traffic_count\\dft_rawcount_local_authority_id_93.csv'\n",
      "C:\\Users\\Chailee\\AppData\\Local\\Temp\\ipykernel_27736\\2460736172.py:2: SyntaxWarning: invalid escape sequence '\\d'\n",
      "  dft96 = 'Data\\\\traffic_count\\dft_rawcount_local_authority_id_96.csv'\n",
      "C:\\Users\\Chailee\\AppData\\Local\\Temp\\ipykernel_27736\\2460736172.py:3: SyntaxWarning: invalid escape sequence '\\d'\n",
      "  dft109 = 'Data\\\\traffic_count\\dft_rawcount_local_authority_id_109.csv'\n",
      "C:\\Users\\Chailee\\AppData\\Local\\Temp\\ipykernel_27736\\2460736172.py:4: SyntaxWarning: invalid escape sequence '\\d'\n",
      "  dft110 = 'Data\\\\traffic_count\\dft_rawcount_local_authority_id_110.csv'\n",
      "C:\\Users\\Chailee\\AppData\\Local\\Temp\\ipykernel_27736\\2460736172.py:5: SyntaxWarning: invalid escape sequence '\\d'\n",
      "  dft145 = 'Data\\\\traffic_count\\dft_rawcount_local_authority_id_145.csv'\n",
      "C:\\Users\\Chailee\\AppData\\Local\\Temp\\ipykernel_27736\\2460736172.py:6: SyntaxWarning: invalid escape sequence '\\d'\n",
      "  dft174 = 'Data\\\\traffic_count\\dft_rawcount_local_authority_id_174.csv'\n"
     ]
    }
   ],
   "source": [
    "\n",
    "dft93 = 'Data\\\\traffic_count\\dft_rawcount_local_authority_id_93.csv'\n",
    "dft96 = 'Data\\\\traffic_count\\dft_rawcount_local_authority_id_96.csv'\n",
    "dft109 = 'Data\\\\traffic_count\\dft_rawcount_local_authority_id_109.csv'\n",
    "dft110 = 'Data\\\\traffic_count\\dft_rawcount_local_authority_id_110.csv'\n",
    "dft145 = 'Data\\\\traffic_count\\dft_rawcount_local_authority_id_145.csv'\n",
    "dft174 = 'Data\\\\traffic_count\\dft_rawcount_local_authority_id_174.csv'\n"
   ]
  },
  {
   "cell_type": "code",
   "execution_count": 2,
   "metadata": {},
   "outputs": [
    {
     "name": "stdout",
     "output_type": "stream",
     "text": [
      "Filtered data saved to Data\\traffic_count\\dft_rawcount_local_authority_id_93_filtered.csv\n",
      "Filtered data saved to Data\\traffic_count\\dft_rawcount_local_authority_id_96_filtered.csv\n"
     ]
    },
    {
     "name": "stderr",
     "output_type": "stream",
     "text": [
      "C:\\Users\\Chailee\\AppData\\Local\\Temp\\ipykernel_27736\\327191506.py:18: DtypeWarning: Columns (11,12) have mixed types. Specify dtype option on import or set low_memory=False.\n",
      "  df = pd.read_csv(file_path)\n"
     ]
    },
    {
     "name": "stdout",
     "output_type": "stream",
     "text": [
      "Filtered data saved to Data\\traffic_count\\dft_rawcount_local_authority_id_109_filtered.csv\n",
      "Filtered data saved to Data\\traffic_count\\dft_rawcount_local_authority_id_110_filtered.csv\n",
      "Filtered data saved to Data\\traffic_count\\dft_rawcount_local_authority_id_145_filtered.csv\n",
      "Filtered data saved to Data\\traffic_count\\dft_rawcount_local_authority_id_174_filtered.csv\n"
     ]
    }
   ],
   "source": [
    "import pandas as pd\n",
    "\n",
    "# 定义文件路径列表\n",
    "file_paths = [\n",
    "    'Data\\\\traffic_count\\\\dft_rawcount_local_authority_id_93.csv',\n",
    "    'Data\\\\traffic_count\\\\dft_rawcount_local_authority_id_96.csv',\n",
    "    'Data\\\\traffic_count\\\\dft_rawcount_local_authority_id_109.csv',\n",
    "    'Data\\\\traffic_count\\\\dft_rawcount_local_authority_id_110.csv',\n",
    "    'Data\\\\traffic_count\\\\dft_rawcount_local_authority_id_145.csv',\n",
    "    'Data\\\\traffic_count\\\\dft_rawcount_local_authority_id_174.csv'\n",
    "]\n",
    "\n",
    "# 指定需要过滤的年份\n",
    "years_to_filter = [2019, 2021, 2023, 2024]\n",
    "\n",
    "for file_path in file_paths:\n",
    "    # 读取CSV文件\n",
    "    df = pd.read_csv(file_path)\n",
    "    \n",
    "    # 将count_date列转换为datetime类型\n",
    "    df['count_date'] = pd.to_datetime(df['count_date'])\n",
    "    \n",
    "    # 过滤出指定年份的行\n",
    "    filtered_df = df[df['count_date'].dt.year.isin(years_to_filter)]\n",
    "    \n",
    "    # 构建新的文件名\n",
    "    new_file_path = file_path.replace('.csv', '_filtered.csv')\n",
    "    \n",
    "    # 保存过滤后的数据到新文件\n",
    "    filtered_df.to_csv(new_file_path, index=False)\n",
    "\n",
    "    print(f\"Filtered data saved to {new_file_path}\")"
   ]
  }
 ],
 "metadata": {
  "kernelspec": {
   "display_name": "Python 3",
   "language": "python",
   "name": "python3"
  },
  "language_info": {
   "codemirror_mode": {
    "name": "ipython",
    "version": 3
   },
   "file_extension": ".py",
   "mimetype": "text/x-python",
   "name": "python",
   "nbconvert_exporter": "python",
   "pygments_lexer": "ipython3",
   "version": "3.12.0"
  }
 },
 "nbformat": 4,
 "nbformat_minor": 2
}
