{
 "cells": [
  {
   "cell_type": "markdown",
   "metadata": {},
   "source": [
    "# import"
   ]
  },
  {
   "cell_type": "code",
   "execution_count": 1,
   "metadata": {},
   "outputs": [],
   "source": [
    "import os\n",
    "import pandas as pd\n"
   ]
  },
  {
   "cell_type": "code",
   "execution_count": 2,
   "metadata": {},
   "outputs": [],
   "source": [
    "\n",
    "# Define the folder containing the original CSV files\n",
    "dfl_folder_path = 'Data/dfl_traffic_count'\n",
    "filtered_folder_path = 'Data/dfl_traffic_count_filtered'\n",
    "\n",
    "# Create a folder for filtered files if it doesn't exist\n",
    "os.makedirs(filtered_folder_path, exist_ok=True)\n",
    "\n",
    "\n"
   ]
  },
  {
   "cell_type": "code",
   "execution_count": 3,
   "metadata": {},
   "outputs": [],
   "source": [
    "dfl_file_path = 'Data\\dfl_traffic_count'\n",
    "\n",
    "dft93 = 'Data\\\\traffic_count\\dft_rawcount_local_authority_id_93.csv'\n",
    "dft96 = 'Data\\\\traffic_count\\dft_rawcount_local_authority_id_96.csv'\n",
    "dft109 = 'Data\\\\traffic_count\\dft_rawcount_local_authority_id_109.csv'\n",
    "dft110 = 'Data\\\\traffic_count\\dft_rawcount_local_authority_id_110.csv'\n",
    "dft145 = 'Data\\\\traffic_count\\dft_rawcount_local_authority_id_145.csv'\n",
    "dft174 = 'Data\\\\traffic_count\\dft_rawcount_local_authority_id_174.csv'\n"
   ]
  },
  {
   "cell_type": "code",
   "execution_count": 2,
   "metadata": {},
   "outputs": [
    {
     "name": "stdout",
     "output_type": "stream",
     "text": [
      "Filtered data saved to Data\\traffic_count\\dft_rawcount_local_authority_id_93_filtered.csv\n",
      "Filtered data saved to Data\\traffic_count\\dft_rawcount_local_authority_id_96_filtered.csv\n"
     ]
    },
    {
     "name": "stderr",
     "output_type": "stream",
     "text": [
      "C:\\Users\\Chailee\\AppData\\Local\\Temp\\ipykernel_27736\\327191506.py:18: DtypeWarning: Columns (11,12) have mixed types. Specify dtype option on import or set low_memory=False.\n",
      "  df = pd.read_csv(file_path)\n"
     ]
    },
    {
     "name": "stdout",
     "output_type": "stream",
     "text": [
      "Filtered data saved to Data\\traffic_count\\dft_rawcount_local_authority_id_109_filtered.csv\n",
      "Filtered data saved to Data\\traffic_count\\dft_rawcount_local_authority_id_110_filtered.csv\n",
      "Filtered data saved to Data\\traffic_count\\dft_rawcount_local_authority_id_145_filtered.csv\n",
      "Filtered data saved to Data\\traffic_count\\dft_rawcount_local_authority_id_174_filtered.csv\n"
     ]
    }
   ],
   "source": [
    "\n",
    "\n",
    "# 定义文件路径列表\n",
    "file_paths = [\n",
    "    'Data\\\\traffic_count\\\\dft_rawcount_local_authority_id_93.csv',\n",
    "    'Data\\\\traffic_count\\\\dft_rawcount_local_authority_id_96.csv',\n",
    "    'Data\\\\traffic_count\\\\dft_rawcount_local_authority_id_109.csv',\n",
    "    'Data\\\\traffic_count\\\\dft_rawcount_local_authority_id_110.csv',\n",
    "    'Data\\\\traffic_count\\\\dft_rawcount_local_authority_id_145.csv',\n",
    "    'Data\\\\traffic_count\\\\dft_rawcount_local_authority_id_174.csv'\n",
    "]\n",
    "\n",
    "# 指定需要过滤的年份\n",
    "years_to_filter = [2018, 2019, 2021, 2022, 2023, 2024]\n",
    "\n",
    "for file_path in file_paths:\n",
    "    # 读取CSV文件\n",
    "    df = pd.read_csv(file_path)\n",
    "    \n",
    "    # 将count_date列转换为datetime类型\n",
    "    df['count_date'] = pd.to_datetime(df['count_date'])\n",
    "    \n",
    "    # 过滤出指定年份的行\n",
    "    filtered_df = df[df['count_date'].dt.year.isin(years_to_filter)]\n",
    "    \n",
    "    # 构建新的文件名\n",
    "    new_file_path = file_path.replace('.csv', '_filtered.csv')\n",
    "    \n",
    "    # 保存过滤后的数据到新文件\n",
    "    filtered_df.to_csv(new_file_path, index=False)\n",
    "\n",
    "    print(f\"Filtered data saved to {new_file_path}\")"
   ]
  }
 ],
 "metadata": {
  "kernelspec": {
   "display_name": "Python 3",
   "language": "python",
   "name": "python3"
  },
  "language_info": {
   "codemirror_mode": {
    "name": "ipython",
    "version": 3
   },
   "file_extension": ".py",
   "mimetype": "text/x-python",
   "name": "python",
   "nbconvert_exporter": "python",
   "pygments_lexer": "ipython3",
   "version": "3.10.9"
  }
 },
 "nbformat": 4,
 "nbformat_minor": 2
}
